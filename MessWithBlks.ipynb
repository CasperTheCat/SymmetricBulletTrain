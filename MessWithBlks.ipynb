{
 "cells": [
  {
   "cell_type": "code",
   "execution_count": null,
   "metadata": {},
   "outputs": [],
   "source": [
    "import os\n",
    "import sys\n",
    "import cryptography.hazmat\n",
    "from cryptography.hazmat.primitives import hashes\n",
    "from cryptography.hazmat.primitives.kdf.pbkdf2 import PBKDF2HMAC\n",
    "from cryptography.hazmat.primitives.ciphers import Cipher\n",
    "from cryptography.hazmat.primitives.ciphers.algorithms import AES\n",
    "from cryptography.hazmat.primitives.ciphers.modes import CTR # Might use, has parallel encryption\n",
    "from cryptography.hazmat.primitives.ciphers.modes import CBC\n",
    "from cryptography.hazmat.primitives.ciphers.modes import XTS # Only for AES, but this is disk encryption mode\n",
    "from cryptography.hazmat.backends import default_backend"
   ]
  },
  {
   "cell_type": "code",
   "execution_count": null,
   "metadata": {},
   "outputs": [],
   "source": [
    "# Fernet needs a key in constructor\n",
    "# So lets build one from a key derivation scheme\n",
    "# I'm using PBKDF2\n",
    "\n",
    "# A few notes\n",
    "# AES with 128 bit keys is fine\n",
    "# So we only need 128/8 = 16 bytes of key\n",
    "# We, however, will use AES256 because we can\n",
    "# In the worst case, 256 performs like it has 131 bits of key\n",
    "\n",
    "# Because we are using XTS, we need to double the key size to 512bit\n",
    "\n",
    "kdf = PBKDF2HMAC(\n",
    "    # Commented below is what would have been used for CBC\n",
    "    algorithm=hashes.SHA512_256(), # Faster than 256 on 64bit machines\n",
    "    length=32,\n",
    "    salt=os.urandom(32),\n",
    "    iterations=1000000,\n",
    "    backend=default_backend()\n",
    ")\n",
    "\n",
    "xtskdf = PBKDF2HMAC(\n",
    "    # Commented below is what would have been used for CBC\n",
    "    #algorithm=hashes.SHA512_256(), # Faster than 256 on 64bit machines\n",
    "    #length=32,\n",
    "    algorithm=hashes.SHA512(),\n",
    "    length=64,\n",
    "    salt=os.urandom(32),\n",
    "    iterations=1000000,\n",
    "    backend=default_backend()\n",
    ")\n"
   ]
  },
  {
   "cell_type": "code",
   "execution_count": null,
   "metadata": {},
   "outputs": [],
   "source": [
    "# \"Cache\" in the notebook\n",
    "# Otherwise we get an exception for using the KDF twice\n",
    "#key = kdf.derive(b\"Password\")\n",
    "key = kdf.derive(os.urandom(16))\n",
    "xtskey = xtskdf.derive(b\"Password\")"
   ]
  },
  {
   "cell_type": "code",
   "execution_count": null,
   "metadata": {},
   "outputs": [],
   "source": [
    "# Construct an AES CBC Context\n",
    "\n",
    "# Don't actually use that as the password!\n",
    "algo = AES(key)\n",
    "\n",
    "# We don't care about the IV\n",
    "# We can use a dead block at the start\n",
    "mode = CBC(os.urandom(16))\n",
    "\n",
    "# Now we get our two functions\n",
    "# We'll just use encryption for this but it's a good example\n",
    "# NOTE: This can throw cryptography.exceptions.UnsupportedAlgorithm\n",
    "cipher = Cipher(algo, mode, backend=default_backend())\n",
    "encryptor = cipher.encryptor()\n",
    "decryptor = cipher.decryptor()"
   ]
  },
  {
   "cell_type": "code",
   "execution_count": null,
   "metadata": {},
   "outputs": [],
   "source": [
    "# XTS\n",
    "def DoXTSSectorEncryption(key, secID):\n",
    "    # We want to get the IV from disk sector if possible\n",
    "    xtsalgo = AES(key)\n",
    "    xtsmode = XTS(secID)\n",
    "    \n",
    "\n"
   ]
  },
  {
   "cell_type": "code",
   "execution_count": null,
   "metadata": {},
   "outputs": [],
   "source": [
    "def GetBlockDeviceSize(blk):\n",
    "    sizeOfBlockDevice = 0\n",
    "    try:\n",
    "        sizeOfBlockDevice = os.lseek(blk, 0, os.SEEK_END)\n",
    "    finally:\n",
    "        os.lseek(blk, 0, os.SEEK_SET)\n",
    "        \n",
    "    return sizeOfBlockDevice"
   ]
  },
  {
   "cell_type": "code",
   "execution_count": null,
   "metadata": {},
   "outputs": [],
   "source": [
    "def GetBlockDeviceSizeSafe(blk):\n",
    "    rawBlkSize = GetBlockDeviceSize(blk)\n",
    "    FullSafeSize = rawBlkSize // 16 # AES Block Size\n",
    "    #sectors -= 1 # For Dead Block\n",
    "    return FullSafeSize * 16\n",
    "    "
   ]
  },
  {
   "cell_type": "code",
   "execution_count": null,
   "metadata": {},
   "outputs": [],
   "source": [
    "phy = os.open(\"/dev/mmcblk0\", os.O_RDWR)\n",
    "\n",
    "diskSize = GetBlockDeviceSizeSafe(phy)\n",
    "\n",
    "print(GetBlockDeviceSizeSafe(phy) / (1024 * 1024))\n",
    "\n",
    "stride = 16\n",
    "totalIndices = diskSize // stride\n",
    "\n",
    "if not diskSize % stride == 0:\n",
    "    print(\"FDE will not work here\")\n",
    "    "
   ]
  },
  {
   "cell_type": "code",
   "execution_count": null,
   "metadata": {
    "scrolled": false
   },
   "outputs": [],
   "source": [
    "# Prime the encryptor with a dead block\n",
    "deadBlock = os.urandom(16)\n",
    "\n",
    "shiftArray = [deadBlock, b\"\"]\n",
    "\n",
    "for i in range(0,totalIndices):\n",
    "    shiftArray[1] = os.pread(phy, stride, i * stride)\n",
    "    \n",
    "    encData = encryptor.update(shiftArray[0])\n",
    "    \n",
    "    os.pwrite(phy, encData, i * stride)\n",
    "    \n",
    "    shiftArray[0] = shiftArray[1]\n",
    "    \n",
    "encryptor.finalize()\n",
    "    \n",
    "    \n",
    "    \n"
   ]
  },
  {
   "cell_type": "code",
   "execution_count": null,
   "metadata": {
    "scrolled": false
   },
   "outputs": [],
   "source": [
    "decryptor.update(os.pread(phy, stride, 0))\n",
    "\n",
    "array = b\"\"\n",
    "for i in range(1, 10):#totalIndices):\n",
    "    array += decryptor.update(os.pread(phy, stride, i * stride))\n",
    "    \n",
    "print(array)"
   ]
  }
 ],
 "metadata": {
  "kernelspec": {
   "display_name": "Python 3",
   "language": "python",
   "name": "python3"
  },
  "language_info": {
   "codemirror_mode": {
    "name": "ipython",
    "version": 3
   },
   "file_extension": ".py",
   "mimetype": "text/x-python",
   "name": "python",
   "nbconvert_exporter": "python",
   "pygments_lexer": "ipython3",
   "version": "3.6.8"
  }
 },
 "nbformat": 4,
 "nbformat_minor": 2
}

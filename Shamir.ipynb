{
 "cells": [
  {
   "cell_type": "code",
   "execution_count": 2,
   "metadata": {},
   "outputs": [],
   "source": [
    "import math\n",
    "import random"
   ]
  },
  {
   "cell_type": "markdown",
   "metadata": {},
   "source": [
    "# Shamir's Secret Sharing\n",
    "\n",
    "1. Select the factor of multi-custody required\n",
    "2. Select a number of keys to be created\n",
    "3. Create a curve of order _factor_"
   ]
  },
  {
   "cell_type": "code",
   "execution_count": 19,
   "metadata": {},
   "outputs": [],
   "source": [
    "def EvaluateAt(curve, x):\n",
    "    \"\"\"Prime is used here to avoid weaknesses\"\"\"\n",
    "    l_prime = 2**127-1\n",
    "    \n",
    "    acc = 0\n",
    "    for coeff in reversed(curve):\n",
    "        print(coeff)\n",
    "        acc *= x\n",
    "        acc += coeff\n",
    "        acc %= l_prime\n",
    "    return acc\n",
    "\n",
    "def SSS(secret, factor, keys):\n",
    "    if factor > keys:\n",
    "        raise ValueError(\"Factor is larger than the number of keys, the secret would be unable to be reconstructed!\")\n",
    "    \n",
    "    randomPoolSize = factor - 1\n",
    "    randomPool = [random.randint(0, 2000000000) for i in range(0, randomPoolSize)]\n",
    "    \n",
    "    curve = [secret] + randomPool\n",
    "    \n",
    "    indices = [random.randint(0, 2000000000) for i in range(0, keys)]\n",
    "    \n",
    "    return [(i, EvaluateAt(curve, i)) for i in indices]\n",
    "    \n",
    "    print(curve)"
   ]
  },
  {
   "cell_type": "code",
   "execution_count": 21,
   "metadata": {},
   "outputs": [
    {
     "name": "stdout",
     "output_type": "stream",
     "text": [
      "1486674019\n",
      "260950266\n",
      "1234\n",
      "1486674019\n",
      "260950266\n",
      "1234\n",
      "1486674019\n",
      "260950266\n",
      "1234\n"
     ]
    },
    {
     "data": {
      "text/plain": [
       "[(1767868322, 4646389139648993128484708882),\n",
       " (783064106, 911612741147457179862822914),\n",
       " (386921705, 222567597429895343327808239)]"
      ]
     },
     "execution_count": 21,
     "metadata": {},
     "output_type": "execute_result"
    }
   ],
   "source": [
    "SSS(1234, 3, 3)"
   ]
  }
 ],
 "metadata": {
  "kernelspec": {
   "display_name": "Python 3",
   "language": "python",
   "name": "python3"
  },
  "language_info": {
   "codemirror_mode": {
    "name": "ipython",
    "version": 3
   },
   "file_extension": ".py",
   "mimetype": "text/x-python",
   "name": "python",
   "nbconvert_exporter": "python",
   "pygments_lexer": "ipython3",
   "version": "3.7.4"
  }
 },
 "nbformat": 4,
 "nbformat_minor": 4
}

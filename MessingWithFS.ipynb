{
 "cells": [
  {
   "cell_type": "code",
   "execution_count": 243,
   "metadata": {},
   "outputs": [],
   "source": [
    "import os\n",
    "import sys\n",
    "import struct\n",
    "import numpy\n",
    "import cryptography.hazmat\n",
    "from cryptography.hazmat.primitives import hashes\n",
    "from cryptography.hazmat.primitives.kdf.pbkdf2 import PBKDF2HMAC\n",
    "from cryptography.hazmat.primitives.ciphers.aead import AESGCM\n",
    "#from cryptography.hazmat.primitives.ciphers import Cipher\n",
    "#from cryptography.hazmat.primitives.ciphers.algorithms import AES\n",
    "#from cryptography.hazmat.primitives.ciphers.modes import CTR # Might use, has parallel encryption\n",
    "from cryptography.hazmat.backends import default_backend"
   ]
  },
  {
   "cell_type": "code",
   "execution_count": 244,
   "metadata": {},
   "outputs": [],
   "source": [
    "def Create256BitKDF(salt):\n",
    "    return PBKDF2HMAC(\n",
    "        algorithm=hashes.SHA512_256(), # Faster than 256 on 64bit machines\n",
    "        length=32,\n",
    "        salt=salt,\n",
    "        iterations=100000,\n",
    "        backend=default_backend()\n",
    "    )"
   ]
  },
  {
   "cell_type": "code",
   "execution_count": 245,
   "metadata": {},
   "outputs": [],
   "source": [
    "def DeriveKeyFromString(strIn):\n",
    "    \n",
    "    kdf = Create256BitKDF(os.urandom(32))\n",
    "    \n",
    "    # Cast strIn into something usable\n",
    "    return kdf.derive(strIn.encode())"
   ]
  },
  {
   "cell_type": "code",
   "execution_count": 246,
   "metadata": {},
   "outputs": [],
   "source": [
    "def DeriveKeyFromStringWithSalt(strIn, salt):\n",
    "    \n",
    "    kdf = Create256BitKDF(salt)\n",
    "    \n",
    "    # Cast strIn into something usable\n",
    "    return kdf.derive(strIn.encode())"
   ]
  },
  {
   "cell_type": "code",
   "execution_count": 247,
   "metadata": {},
   "outputs": [],
   "source": [
    "def DeriveKeyFromBytesWithSalt(data, salt):\n",
    "    \n",
    "    kdf = Create256BitKDF(salt)\n",
    "    \n",
    "    # Cast strIn into something usable\n",
    "    return kdf.derive(data)"
   ]
  },
  {
   "cell_type": "code",
   "execution_count": 248,
   "metadata": {},
   "outputs": [],
   "source": [
    "class FileMetadata:\n",
    "    def __init__(self, salt=os.urandom(32), length = 0):\n",
    "        self.check = \"LING\".encode()\n",
    "        self.salt = salt\n",
    "        self.fileLength = length\n",
    "        self.sane = True\n",
    "        self.nonce = os.urandom(16)\n",
    "        \n",
    "    def setSalt(self, salt):\n",
    "        self.salt = salt\n",
    "        \n",
    "    def setFileLength(self, length):\n",
    "        self.fileLength = length\n",
    "        \n",
    "    def getFileLength(self):\n",
    "        return self.fileLength\n",
    "    \n",
    "    def getSalt(self):\n",
    "        return self.salt\n",
    "    \n",
    "    def getAESKey(self, passphrase):\n",
    "        return DeriveKeyFromBytesWithSalt(passphrase, self.salt)\n",
    "    \n",
    "    def getAESKeyFromString(self, passphrase):\n",
    "        return DeriveKeyFromStringWithSalt(passphrase, self.salt)\n",
    "    \n",
    "    def getMetadataAsStruct(self):\n",
    "        return struct.pack(\"4sl32s16s\", self.check, self.fileLength, self.salt, self.nonce)\n",
    "    \n",
    "    def getNonce(self):\n",
    "        temp = self.nonce\n",
    "        self.nonce = os.urandom(16)\n",
    "        return temp\n",
    "    \n",
    "    def setMetadataFromStruct(self, st):\n",
    "        self.check, self.fileLength, self.salt, self.nonce = struct.unpack(\"4sl32s16s\", st)\n",
    "        \n",
    "        if self.check != \"LING\":\n",
    "            self.sane = False\n",
    "            \n",
    "    def isSane(self):\n",
    "        return self.sane"
   ]
  },
  {
   "cell_type": "code",
   "execution_count": 276,
   "metadata": {},
   "outputs": [],
   "source": [
    "class File:\n",
    "    def __init__(self, filename, key, metadata=FileMetadata()):\n",
    "        self.meta = metadata\n",
    "        self.data = b\"\"\n",
    "        self.filename = filename\n",
    "        self.writeIndex = 0\n",
    "        self.fKey = key\n",
    "        \n",
    "        if not os.path.exists(filename):\n",
    "            raise FileNotFoundError()\n",
    "            \n",
    "    def _LoadMeta(self, header):\n",
    "        self.meta.setMetadataFromStruct(header)\n",
    "        \n",
    "    def _Encrypt(self, data):\n",
    "        ctx = AESGCM(self.meta.getAESKeyFromString(self.fKey))\n",
    "        return ctx.encrypt(self.meta.getNonce(), data, None)\n",
    "    \n",
    "    def _Decrypt(self, data):\n",
    "        ctx = AESGCM(self.meta.getAESKeyFromString(self.fKey))\n",
    "        return ctx.decrypt(self.meta.getNonce(), data, None)\n",
    "        \n",
    "    def Write(self, data):\n",
    "        # Size\n",
    "        nNotOverwritten = self.writeIndex\n",
    "        nOverwritten = len(data)\n",
    "        \n",
    "        print(self.data[0:nNotOverwritten])\n",
    "        \n",
    "        totalSize = nNotOverwritten + nOverwritten\n",
    "        \n",
    "        writeData = numpy.zeros(totalSize, dtype=(numpy.void, 1))\n",
    "        \n",
    "        # Copy to writeData\n",
    "        # Copy not overwritten\n",
    "        if nNotOverwritten:\n",
    "            print(writeData)\n",
    "            print(self.data[0:nNotOverwritten])\n",
    "            writeData[0:nNotOverwritten] = self.data[0:nNotOverwritten]\n",
    "            \n",
    "        print(writeData)\n",
    "        writeData[nNotOverwritten: nNotOverwritten + nOverwritten] = data[0:nOverwritten]\n",
    "        \n",
    "        print(writeData)\n",
    "        sys.exit(1)\n",
    "            \n",
    "        # Write to disk!\n",
    "        with open(self.filename, \"wb\") as f:\n",
    "            f.write(self.meta.getMetadataAsStruct())\n",
    "            f.write(self._Encrypt(self.data))\n",
    "        \n",
    "    def Read(self):\n",
    "        if self.data:\n",
    "            return self.data\n",
    "        else:\n",
    "            # Load the file\n",
    "            with open(self.filename, \"rb\") as f:\n",
    "                self.data = f.read()\n",
    "                \n",
    "            try:\n",
    "                self._LoadMeta(self.data[0:64])\n",
    "                self.data = self._Decrypt(self.data[64:])\n",
    "                self.writeIndex = len(self.data)\n",
    "            except Exception as e:\n",
    "                print(e)\n",
    "                # No Encrypted Yet\n",
    "                pass\n",
    "                \n",
    "            return self.data\n",
    "        "
   ]
  },
  {
   "cell_type": "code",
   "execution_count": 277,
   "metadata": {},
   "outputs": [
    {
     "name": "stdout",
     "output_type": "stream",
     "text": [
      "b'WERTTTE\\n'\n",
      "b'WERTTTE\\n'\n",
      "[b'\\x00' b'\\x00' b'\\x00' b'\\x00' b'\\x00' b'\\x00' b'\\x00' b'\\x00']\n",
      "b'WERTTTE\\n'\n",
      "[b'\\x57' b'\\x57' b'\\x57' b'\\x57' b'\\x57' b'\\x57' b'\\x57' b'\\x57']\n",
      "[b'\\x57' b'\\x57' b'\\x57' b'\\x57' b'\\x57' b'\\x57' b'\\x57' b'\\x57']\n"
     ]
    },
    {
     "ename": "SystemExit",
     "evalue": "1",
     "output_type": "error",
     "traceback": [
      "An exception has occurred, use %tb to see the full traceback.\n",
      "\u001b[0;31mSystemExit\u001b[0m\u001b[0;31m:\u001b[0m 1\n"
     ]
    },
    {
     "name": "stderr",
     "output_type": "stream",
     "text": [
      "/usr/lib/python3/dist-packages/IPython/core/interactiveshell.py:2890: UserWarning: To exit: use 'exit', 'quit', or Ctrl-D.\n",
      "  warn(\"To exit: use 'exit', 'quit', or Ctrl-D.\", stacklevel=1)\n"
     ]
    }
   ],
   "source": [
    "md = File(\"out.md\", \"hi.php\")\n",
    "print(md.Read())\n",
    "md.Write(\"\")"
   ]
  },
  {
   "cell_type": "raw",
   "metadata": {},
   "source": [
    "files = \"./out.md\"\n",
    "strkey = \"558587\"\n",
    "\n",
    "# IsFileEncrypted?\n",
    "with open(files, \"rb+\") as f:\n",
    "    # Try to get meta\n",
    "    newFileMeta = FileMetadata()\n",
    "    \n",
    "    # Read from file\n",
    "    l = f.read()\n",
    "    \n",
    "    if len(l) > 48: # Technically it's 48 + 16\n",
    "        # This is not encrypted\n",
    "        \n",
    "        # Set metadata of file\n",
    "        newFileMeta.setMetadataFromStruct(l[0:48])\n",
    "        \n",
    "        if newFileMeta.isSane():\n",
    "            newFileMeta.getAESKeyFromString(strkey)\n",
    "            \n",
    "    \n",
    "    \n",
    "    \n",
    "\n",
    "\n",
    "    "
   ]
  },
  {
   "cell_type": "raw",
   "metadata": {},
   "source": [
    "# \"Encrypt\"\n",
    "with open(files, \"rb+\") as f:\n",
    "    l = f.read()\n",
    "    \n",
    "    meta = FileMetadata(length=len(l))\n",
    "    \n",
    "    f.seek(0) # Reset write head\n",
    "    f.write(meta.getMetadataAsStruct())\n",
    "    f.write(l)"
   ]
  },
  {
   "cell_type": "raw",
   "metadata": {},
   "source": [
    "# \"Encrypt\"\n",
    "with open(files, \"rb+\") as f:\n",
    "    l = f.read()\n",
    "    \n",
    "    meta = FileMetadata(length=len(l))\n",
    "    \n",
    "    f.write(meta.getMetadataAsStruct())\n",
    "    f.write(l)\n",
    "    \n",
    "\n",
    "with open(files, \"rb\") as f:\n",
    "    # Try to get meta\n",
    "    newFileMeta = FileMetadata()\n",
    "    \n",
    "    # Read from file\n",
    "    l = f.read()\n",
    "    \n",
    "    print()\n",
    "    \n",
    "    newFileMeta.setMetadataFromStruct(l[0:48])\n",
    "    \n",
    "    ll = os.path.getsize(files)"
   ]
  }
 ],
 "metadata": {
  "kernelspec": {
   "display_name": "Python 3",
   "language": "python",
   "name": "python3"
  },
  "language_info": {
   "codemirror_mode": {
    "name": "ipython",
    "version": 3
   },
   "file_extension": ".py",
   "mimetype": "text/x-python",
   "name": "python",
   "nbconvert_exporter": "python",
   "pygments_lexer": "ipython3",
   "version": "3.6.8"
  }
 },
 "nbformat": 4,
 "nbformat_minor": 2
}
